{
 "cells": [
  {
   "cell_type": "code",
   "execution_count": 1,
   "metadata": {},
   "outputs": [
    {
     "ename": "NameError",
     "evalue": "name 'json' is not defined",
     "output_type": "error",
     "traceback": [
      "\u001b[0;31m---------------------------------------------------------------------------\u001b[0m",
      "\u001b[0;31mNameError\u001b[0m                                 Traceback (most recent call last)",
      "\u001b[0;32m<ipython-input-1-7f78f122be5d>\u001b[0m in \u001b[0;36m<module>\u001b[0;34m()\u001b[0m\n\u001b[1;32m      1\u001b[0m \u001b[0;32mwith\u001b[0m \u001b[0mopen\u001b[0m\u001b[0;34m(\u001b[0m\u001b[0;34m\"running_tasks.json\"\u001b[0m\u001b[0;34m,\u001b[0m \u001b[0;34m\"r\"\u001b[0m\u001b[0;34m)\u001b[0m \u001b[0;32mas\u001b[0m \u001b[0mfh\u001b[0m\u001b[0;34m:\u001b[0m\u001b[0;34m\u001b[0m\u001b[0;34m\u001b[0m\u001b[0m\n\u001b[0;32m----> 2\u001b[0;31m     \u001b[0mdata\u001b[0m \u001b[0;34m=\u001b[0m \u001b[0mjson\u001b[0m\u001b[0;34m.\u001b[0m\u001b[0mload\u001b[0m\u001b[0;34m(\u001b[0m\u001b[0mfh\u001b[0m\u001b[0;34m)\u001b[0m\u001b[0;34m\u001b[0m\u001b[0;34m\u001b[0m\u001b[0m\n\u001b[0m",
      "\u001b[0;31mNameError\u001b[0m: name 'json' is not defined"
     ]
    }
   ],
   "source": [
    "with open(\"running_tasks.json\", \"r\") as fh:\n",
    "    data = json.load(fh)"
   ]
  },
  {
   "cell_type": "code",
   "execution_count": 6,
   "metadata": {},
   "outputs": [],
   "source": [
    "from time import sleep\n",
    "import time\n",
    "from IPython.display import clear_output\n",
    "import random\n",
    "import json\n",
    "\n",
    "class Tasks:\n",
    "    def __init__(self):\n",
    "        print(\"game on!\")\n",
    "        clear_output(wait = True)\n",
    "    \n",
    "    def send_task(self, pokemon, task, location):\n",
    "        with open(\"running_tasks.json\", \"r\") as fh:\n",
    "            data = json.load(fh)\n",
    "        with open(\"running_tasks.json\", \"w+\") as fh:\n",
    "            data[\"tasks\"].append(dict(pokemon=pokemon, task=task, location=location, starting_time=time.time()))\n",
    "            json.dump(data, fh)\n",
    "    \n",
    "    def run_tasks(self):\n",
    "        while (run_again):\n",
    "            clear_output(wait = True)\n",
    "            with open(\"running_tasks.json\", \"r\") as fh:\n",
    "                running_tasks = json.load(fh)[\"tasks\"]\n",
    "                for task in running_tasks:\n",
    "                    time_passed = int((time.time() - task[\"starting_time\"])/5)\n",
    "                    if time_passed < 60:\n",
    "                        print(str(task[\"pokemon\"]) + \" \" + str(task[\"task\"]) + \" \" + \"#\"*time_passed + (60-time_passed)*\"-\")\n",
    "                    else:\n",
    "                        break\n",
    "            time.sleep(5)\n",
    "        print(\"waiting tasks\")\n",
    "\n",
    "            "
   ]
  },
  {
   "cell_type": "code",
   "execution_count": 7,
   "metadata": {},
   "outputs": [],
   "source": [
    "start_time = time.time()"
   ]
  },
  {
   "cell_type": "code",
   "execution_count": 8,
   "metadata": {},
   "outputs": [
    {
     "name": "stdout",
     "output_type": "stream",
     "text": [
      "game on!\n"
     ]
    }
   ],
   "source": [
    "task = Tasks()\n",
    "task.send_task(\"psychu\", \"fly\", \"here\")"
   ]
  },
  {
   "cell_type": "code",
   "execution_count": null,
   "metadata": {},
   "outputs": [],
   "source": [
    "task.run_tasks()"
   ]
  },
  {
   "cell_type": "code",
   "execution_count": null,
   "metadata": {},
   "outputs": [],
   "source": []
  },
  {
   "cell_type": "code",
   "execution_count": null,
   "metadata": {},
   "outputs": [],
   "source": []
  },
  {
   "cell_type": "code",
   "execution_count": null,
   "metadata": {},
   "outputs": [],
   "source": []
  }
 ],
 "metadata": {
  "kernelspec": {
   "display_name": "vir",
   "language": "python",
   "name": "vir"
  },
  "language_info": {
   "codemirror_mode": {
    "name": "ipython",
    "version": 3
   },
   "file_extension": ".py",
   "mimetype": "text/x-python",
   "name": "python",
   "nbconvert_exporter": "python",
   "pygments_lexer": "ipython3",
   "version": "3.6.9"
  }
 },
 "nbformat": 4,
 "nbformat_minor": 2
}
